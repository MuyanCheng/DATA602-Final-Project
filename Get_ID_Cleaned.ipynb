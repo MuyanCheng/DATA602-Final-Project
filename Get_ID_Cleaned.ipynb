{
  "cells": [
    {
      "cell_type": "code",
      "execution_count": null,
      "metadata": {
        "id": "t_U-AbtcUMiq",
        "colab": {
          "base_uri": "https://localhost:8080/",
          "height": 17
        },
        "outputId": "7d805ae3-c078-4150-c1bb-aed3671b9e58"
      },
      "outputs": [
        {
          "output_type": "display_data",
          "data": {
            "text/html": [
              "        <script type=\"text/javascript\">\n",
              "        window.PlotlyConfig = {MathJaxConfig: 'local'};\n",
              "        if (window.MathJax && window.MathJax.Hub && window.MathJax.Hub.Config) {window.MathJax.Hub.Config({SVG: {font: \"STIX-Web\"}});}\n",
              "        if (typeof require !== 'undefined') {\n",
              "        require.undef(\"plotly\");\n",
              "        requirejs.config({\n",
              "            paths: {\n",
              "                'plotly': ['https://cdn.plot.ly/plotly-2.24.1.min']\n",
              "            }\n",
              "        });\n",
              "        require(['plotly'], function(Plotly) {\n",
              "            window._Plotly = Plotly;\n",
              "        });\n",
              "        }\n",
              "        </script>\n",
              "        "
            ]
          },
          "metadata": {}
        }
      ],
      "source": [
        "#-----General------#\n",
        "import numpy as np\n",
        "import pandas as pd\n",
        "import os\n",
        "import sys\n",
        "import math\n",
        "import random\n",
        "import string\n",
        "#-----Plotting-----#\n",
        "import matplotlib.pyplot as plt\n",
        "import plotly.graph_objects as go\n",
        "import plotly.express as px\n",
        "import plotly.offline as py\n",
        "py.init_notebook_mode(connected=True)\n",
        "import seaborn as sns\n",
        "# from pandas_profiling import ProfileReport\n",
        "\n",
        "#-----Utility-----#\n",
        "import itertools\n",
        "import warnings\n",
        "warnings.filterwarnings(\"ignore\")\n",
        "import re\n",
        "import gc\n",
        "from bs4 import BeautifulSoup as soup\n",
        "from urllib.request import Request, urlopen\n",
        "from datetime import date, datetime\n",
        "LOOK_AT = 5 # Controls how many bars the user can see in the bar graph\n",
        "AT_LEAST = 50 # Controls what rank a country must be in terms of total cases to be shown on the bar graph\n",
        "def get_id(url, id_list):\n",
        "  req = Request(url)\n",
        "  webpage_top_50 = urlopen(req)\n",
        "  page_soup = soup(webpage_top_50, \"lxml\")\n",
        "  mydivs = page_soup.findAll(\"div\",{\"class\":\"contact-buttons\"})\n",
        "  #print(mydivs)\n",
        "  i = 1\n",
        "  for i in mydivs:\n",
        "    tp = i.get('id')[:-10]\n",
        "    if len(tp)!=36:\n",
        "      tp = tp[10:]\n",
        "    id_list.append(tp)"
      ]
    },
    {
      "cell_type": "code",
      "execution_count": null,
      "metadata": {
        "id": "bUpD-po-jgwM"
      },
      "outputs": [],
      "source": [
        "#this colect zip codes from www.ciclt.net\n",
        "url = 'https://www.ciclt.net/sn/clt/capitolimpact/gw_ziplist.aspx?zip=300'\n",
        "req = Request(url)\n",
        "webpage_top_50 = urlopen(req)\n",
        "page_soup = soup(webpage_top_50, \"lxml\")\n",
        "mydivs = page_soup.findAll(\"table\")\n",
        "content = mydivs[0].findAll(\"tr\")\n",
        "content.pop(0)\n",
        "content.pop(0)\n",
        "content.pop(0)\n",
        "content.pop(0)\n",
        "for i in content:\n",
        "  zip_code_GA.append(i.text[:5])\n"
      ]
    },
    {
      "cell_type": "code",
      "execution_count": null,
      "metadata": {
        "id": "7f43h_PwUkF7"
      },
      "outputs": [],
      "source": [
        "#Because of the amount of time get id takes, we stored the zip code list for later use, this read in the previous zip codes\n",
        "ids = []\n",
        "data2 = []\n",
        "file1 = open('south_zip_list.txt', 'r')\n",
        "Lines = file1.readlines()\n",
        "for i in Lines:\n",
        "  ids.append(i[:-1])"
      ]
    },
    {
      "cell_type": "code",
      "execution_count": null,
      "metadata": {
        "id": "iex3YH0rQ4z2"
      },
      "outputs": [],
      "source": [
        "first = 'https://www.cars.com/shopping/results/?dealer_id=&keyword=&list_price_max=&list_price_min=&makes[]=&maximum_distance=50&mileage_max=&monthly_payment=&page='\n",
        "second = '&page_size=100&sort=best_match_desc&stock_type=used&year_max=&year_min=&zip='\n",
        "for j in range(150,200):#I usually runs 50 zip code at once, which takes roughly 6 hours\n",
        "  for i in range(1,101):\n",
        "    url = first+str(i)+second+str(combine[j])\n",
        "    get_id(url,data2)\n",
        "    print(j, i)"
      ]
    },
    {
      "cell_type": "code",
      "execution_count": null,
      "metadata": {
        "id": "M0HKWRDiQTFa"
      },
      "outputs": [],
      "source": [
        "#This removes the duplicate IDs\n",
        "a = 0\n",
        "for i in data2:\n",
        "  if i not in ids:\n",
        "    data2.append(i)\n",
        "  print((a/2035762)*100, \"%\")\n",
        "  a = a + 1"
      ]
    },
    {
      "cell_type": "code",
      "execution_count": null,
      "metadata": {
        "id": "x07SQzi17hzu"
      },
      "outputs": [],
      "source": [
        "#records the newly rade IDs\n",
        "with open('south_id(150-200).txt', 'w') as f:\n",
        "    for i in data1:\n",
        "        f.write(i+\"\\n\")"
      ]
    }
  ],
  "metadata": {
    "colab": {
      "provenance": []
    },
    "kernelspec": {
      "display_name": "Python 3",
      "name": "python3"
    },
    "language_info": {
      "name": "python"
    }
  },
  "nbformat": 4,
  "nbformat_minor": 0
}